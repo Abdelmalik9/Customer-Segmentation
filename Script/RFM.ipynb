{
 "cells": [
  {
   "cell_type": "markdown",
   "metadata": {
    "id": "t8fnXYGmAqeJ"
   },
   "source": [
    "# Directory, Libraries and data"
   ]
  },
  {
   "cell_type": "code",
   "execution_count": 2,
   "metadata": {
    "executionInfo": {
     "elapsed": 287,
     "status": "ok",
     "timestamp": 1669229132023,
     "user": {
      "displayName": "Diogo Resende",
      "userId": "05706604408624562002"
     },
     "user_tz": -60
    },
    "id": "V1kZY4TcAz3-"
   },
   "outputs": [],
   "source": [
    "#import libraries \n",
    "import pandas as pd"
   ]
  },
  {
   "cell_type": "code",
   "execution_count": 3,
   "metadata": {
    "colab": {
     "base_uri": "https://localhost:8080/",
     "height": 206
    },
    "executionInfo": {
     "elapsed": 378,
     "status": "ok",
     "timestamp": 1669229132396,
     "user": {
      "displayName": "Diogo Resende",
      "userId": "05706604408624562002"
     },
     "user_tz": -60
    },
    "id": "zepsUQTYA-87",
    "outputId": "aa8a3f24-4406-472f-b164-691e4f3a36eb"
   },
   "outputs": [
    {
     "data": {
      "application/vnd.microsoft.datawrangler.viewer.v0+json": {
       "columns": [
        {
         "name": "index",
         "rawType": "int64",
         "type": "integer"
        },
        {
         "name": "customer_id",
         "rawType": "int64",
         "type": "integer"
        },
        {
         "name": "revenue",
         "rawType": "int64",
         "type": "integer"
        },
        {
         "name": "most_recent_visit",
         "rawType": "object",
         "type": "string"
        },
        {
         "name": "number_of_orders",
         "rawType": "int64",
         "type": "integer"
        },
        {
         "name": "recency_days",
         "rawType": "int64",
         "type": "integer"
        }
       ],
       "ref": "caebcea5-84c4-41c6-89ea-ee1a50c6df65",
       "rows": [
        [
         "0",
         "22086",
         "777",
         "5/14/2006",
         "9",
         "232"
        ],
        [
         "1",
         "2290",
         "1555",
         "9/8/2006",
         "16",
         "115"
        ],
        [
         "2",
         "26377",
         "336",
         "11/19/2006",
         "5",
         "43"
        ],
        [
         "3",
         "24650",
         "1189",
         "10/29/2006",
         "12",
         "64"
        ],
        [
         "4",
         "12883",
         "1229",
         "12/9/2006",
         "12",
         "23"
        ]
       ],
       "shape": {
        "columns": 5,
        "rows": 5
       }
      },
      "text/html": [
       "<div>\n",
       "<style scoped>\n",
       "    .dataframe tbody tr th:only-of-type {\n",
       "        vertical-align: middle;\n",
       "    }\n",
       "\n",
       "    .dataframe tbody tr th {\n",
       "        vertical-align: top;\n",
       "    }\n",
       "\n",
       "    .dataframe thead th {\n",
       "        text-align: right;\n",
       "    }\n",
       "</style>\n",
       "<table border=\"1\" class=\"dataframe\">\n",
       "  <thead>\n",
       "    <tr style=\"text-align: right;\">\n",
       "      <th></th>\n",
       "      <th>customer_id</th>\n",
       "      <th>revenue</th>\n",
       "      <th>most_recent_visit</th>\n",
       "      <th>number_of_orders</th>\n",
       "      <th>recency_days</th>\n",
       "    </tr>\n",
       "  </thead>\n",
       "  <tbody>\n",
       "    <tr>\n",
       "      <th>0</th>\n",
       "      <td>22086</td>\n",
       "      <td>777</td>\n",
       "      <td>5/14/2006</td>\n",
       "      <td>9</td>\n",
       "      <td>232</td>\n",
       "    </tr>\n",
       "    <tr>\n",
       "      <th>1</th>\n",
       "      <td>2290</td>\n",
       "      <td>1555</td>\n",
       "      <td>9/8/2006</td>\n",
       "      <td>16</td>\n",
       "      <td>115</td>\n",
       "    </tr>\n",
       "    <tr>\n",
       "      <th>2</th>\n",
       "      <td>26377</td>\n",
       "      <td>336</td>\n",
       "      <td>11/19/2006</td>\n",
       "      <td>5</td>\n",
       "      <td>43</td>\n",
       "    </tr>\n",
       "    <tr>\n",
       "      <th>3</th>\n",
       "      <td>24650</td>\n",
       "      <td>1189</td>\n",
       "      <td>10/29/2006</td>\n",
       "      <td>12</td>\n",
       "      <td>64</td>\n",
       "    </tr>\n",
       "    <tr>\n",
       "      <th>4</th>\n",
       "      <td>12883</td>\n",
       "      <td>1229</td>\n",
       "      <td>12/9/2006</td>\n",
       "      <td>12</td>\n",
       "      <td>23</td>\n",
       "    </tr>\n",
       "  </tbody>\n",
       "</table>\n",
       "</div>"
      ],
      "text/plain": [
       "   customer_id  revenue most_recent_visit  number_of_orders  recency_days\n",
       "0        22086      777         5/14/2006                 9           232\n",
       "1         2290     1555          9/8/2006                16           115\n",
       "2        26377      336        11/19/2006                 5            43\n",
       "3        24650     1189        10/29/2006                12            64\n",
       "4        12883     1229         12/9/2006                12            23"
      ]
     },
     "execution_count": 3,
     "metadata": {},
     "output_type": "execute_result"
    }
   ],
   "source": [
    "#Data\n",
    "df = pd.read_csv(\"customer_data.csv\").dropna()\n",
    "df.head()"
   ]
  },
  {
   "cell_type": "markdown",
   "metadata": {
    "id": "2YX-J1GBCuEv"
   },
   "source": [
    "# Preparing Dataframe"
   ]
  },
  {
   "cell_type": "code",
   "execution_count": 4,
   "metadata": {
    "colab": {
     "base_uri": "https://localhost:8080/",
     "height": 81
    },
    "executionInfo": {
     "elapsed": 23,
     "status": "ok",
     "timestamp": 1669229132399,
     "user": {
      "displayName": "Diogo Resende",
      "userId": "05706604408624562002"
     },
     "user_tz": -60
    },
    "id": "eiSie-KuCwPl",
    "outputId": "20f6aea6-9173-41d6-8dc8-242c0c7fd551"
   },
   "outputs": [
    {
     "data": {
      "application/vnd.microsoft.datawrangler.viewer.v0+json": {
       "columns": [
        {
         "name": "index",
         "rawType": "int64",
         "type": "integer"
        },
        {
         "name": "customer_id",
         "rawType": "int64",
         "type": "integer"
        },
        {
         "name": "revenue",
         "rawType": "int64",
         "type": "integer"
        },
        {
         "name": "most_recent_visit",
         "rawType": "object",
         "type": "string"
        },
        {
         "name": "number_of_orders",
         "rawType": "int64",
         "type": "integer"
        },
        {
         "name": "recency_days",
         "rawType": "int64",
         "type": "integer"
        },
        {
         "name": "monetary",
         "rawType": "float64",
         "type": "float"
        }
       ],
       "ref": "4074b152-d52a-4430-998c-c3076c3758ed",
       "rows": [
        [
         "0",
         "22086",
         "777",
         "5/14/2006",
         "9",
         "232",
         "86.33333333333333"
        ]
       ],
       "shape": {
        "columns": 6,
        "rows": 1
       }
      },
      "text/html": [
       "<div>\n",
       "<style scoped>\n",
       "    .dataframe tbody tr th:only-of-type {\n",
       "        vertical-align: middle;\n",
       "    }\n",
       "\n",
       "    .dataframe tbody tr th {\n",
       "        vertical-align: top;\n",
       "    }\n",
       "\n",
       "    .dataframe thead th {\n",
       "        text-align: right;\n",
       "    }\n",
       "</style>\n",
       "<table border=\"1\" class=\"dataframe\">\n",
       "  <thead>\n",
       "    <tr style=\"text-align: right;\">\n",
       "      <th></th>\n",
       "      <th>customer_id</th>\n",
       "      <th>revenue</th>\n",
       "      <th>most_recent_visit</th>\n",
       "      <th>number_of_orders</th>\n",
       "      <th>recency_days</th>\n",
       "      <th>monetary</th>\n",
       "    </tr>\n",
       "  </thead>\n",
       "  <tbody>\n",
       "    <tr>\n",
       "      <th>0</th>\n",
       "      <td>22086</td>\n",
       "      <td>777</td>\n",
       "      <td>5/14/2006</td>\n",
       "      <td>9</td>\n",
       "      <td>232</td>\n",
       "      <td>86.333333</td>\n",
       "    </tr>\n",
       "  </tbody>\n",
       "</table>\n",
       "</div>"
      ],
      "text/plain": [
       "   customer_id  revenue most_recent_visit  number_of_orders  recency_days  \\\n",
       "0        22086      777         5/14/2006                 9           232   \n",
       "\n",
       "    monetary  \n",
       "0  86.333333  "
      ]
     },
     "execution_count": 4,
     "metadata": {},
     "output_type": "execute_result"
    }
   ],
   "source": [
    "#Preparing basket / monetary\n",
    "df['monetary'] = df.revenue / df.number_of_orders\n",
    "df.head(1)"
   ]
  },
  {
   "cell_type": "code",
   "execution_count": 5,
   "metadata": {
    "colab": {
     "base_uri": "https://localhost:8080/",
     "height": 49
    },
    "executionInfo": {
     "elapsed": 16,
     "status": "ok",
     "timestamp": 1669229134129,
     "user": {
      "displayName": "Diogo Resende",
      "userId": "05706604408624562002"
     },
     "user_tz": -60
    },
    "id": "R1qRbxK4C9m3",
    "outputId": "027fca21-852b-485f-edbc-c9304a0039c3"
   },
   "outputs": [
    {
     "data": {
      "application/vnd.microsoft.datawrangler.viewer.v0+json": {
       "columns": [
        {
         "name": "index",
         "rawType": "int64",
         "type": "integer"
        },
        {
         "name": "customer_id",
         "rawType": "int64",
         "type": "integer"
        },
        {
         "name": "revenue",
         "rawType": "int64",
         "type": "integer"
        },
        {
         "name": "most_recent_visit",
         "rawType": "object",
         "type": "string"
        },
        {
         "name": "frequency",
         "rawType": "int64",
         "type": "integer"
        },
        {
         "name": "recency",
         "rawType": "int64",
         "type": "integer"
        },
        {
         "name": "monetary",
         "rawType": "float64",
         "type": "float"
        }
       ],
       "ref": "d8635c37-726a-4c08-94e9-84ebe7c8c570",
       "rows": [],
       "shape": {
        "columns": 6,
        "rows": 0
       }
      },
      "text/html": [
       "<div>\n",
       "<style scoped>\n",
       "    .dataframe tbody tr th:only-of-type {\n",
       "        vertical-align: middle;\n",
       "    }\n",
       "\n",
       "    .dataframe tbody tr th {\n",
       "        vertical-align: top;\n",
       "    }\n",
       "\n",
       "    .dataframe thead th {\n",
       "        text-align: right;\n",
       "    }\n",
       "</style>\n",
       "<table border=\"1\" class=\"dataframe\">\n",
       "  <thead>\n",
       "    <tr style=\"text-align: right;\">\n",
       "      <th></th>\n",
       "      <th>customer_id</th>\n",
       "      <th>revenue</th>\n",
       "      <th>most_recent_visit</th>\n",
       "      <th>frequency</th>\n",
       "      <th>recency</th>\n",
       "      <th>monetary</th>\n",
       "    </tr>\n",
       "  </thead>\n",
       "  <tbody>\n",
       "  </tbody>\n",
       "</table>\n",
       "</div>"
      ],
      "text/plain": [
       "Empty DataFrame\n",
       "Columns: [customer_id, revenue, most_recent_visit, frequency, recency, monetary]\n",
       "Index: []"
      ]
     },
     "execution_count": 5,
     "metadata": {},
     "output_type": "execute_result"
    }
   ],
   "source": [
    "#Changing variables' names\n",
    "df.rename(columns = {'number_of_orders': 'frequency',\n",
    "                     'recency_days': 'recency'}, inplace = True)\n",
    "df.head(0)"
   ]
  },
  {
   "cell_type": "code",
   "execution_count": 6,
   "metadata": {
    "colab": {
     "base_uri": "https://localhost:8080/",
     "height": 81
    },
    "executionInfo": {
     "elapsed": 16,
     "status": "ok",
     "timestamp": 1669229136025,
     "user": {
      "displayName": "Diogo Resende",
      "userId": "05706604408624562002"
     },
     "user_tz": -60
    },
    "id": "ASyHI59eDUAI",
    "outputId": "6a1fb611-77d1-4b88-d224-dc5e92c8f110"
   },
   "outputs": [
    {
     "data": {
      "application/vnd.microsoft.datawrangler.viewer.v0+json": {
       "columns": [
        {
         "name": "index",
         "rawType": "int64",
         "type": "integer"
        },
        {
         "name": "customer_id",
         "rawType": "int64",
         "type": "integer"
        },
        {
         "name": "frequency",
         "rawType": "int64",
         "type": "integer"
        },
        {
         "name": "recency",
         "rawType": "int64",
         "type": "integer"
        },
        {
         "name": "monetary",
         "rawType": "float64",
         "type": "float"
        }
       ],
       "ref": "c38c2319-ffa5-478d-ad3f-0cab6c51c546",
       "rows": [
        [
         "0",
         "22086",
         "9",
         "232",
         "86.33333333333333"
        ]
       ],
       "shape": {
        "columns": 4,
        "rows": 1
       }
      },
      "text/html": [
       "<div>\n",
       "<style scoped>\n",
       "    .dataframe tbody tr th:only-of-type {\n",
       "        vertical-align: middle;\n",
       "    }\n",
       "\n",
       "    .dataframe tbody tr th {\n",
       "        vertical-align: top;\n",
       "    }\n",
       "\n",
       "    .dataframe thead th {\n",
       "        text-align: right;\n",
       "    }\n",
       "</style>\n",
       "<table border=\"1\" class=\"dataframe\">\n",
       "  <thead>\n",
       "    <tr style=\"text-align: right;\">\n",
       "      <th></th>\n",
       "      <th>customer_id</th>\n",
       "      <th>frequency</th>\n",
       "      <th>recency</th>\n",
       "      <th>monetary</th>\n",
       "    </tr>\n",
       "  </thead>\n",
       "  <tbody>\n",
       "    <tr>\n",
       "      <th>0</th>\n",
       "      <td>22086</td>\n",
       "      <td>9</td>\n",
       "      <td>232</td>\n",
       "      <td>86.333333</td>\n",
       "    </tr>\n",
       "  </tbody>\n",
       "</table>\n",
       "</div>"
      ],
      "text/plain": [
       "   customer_id  frequency  recency   monetary\n",
       "0        22086          9      232  86.333333"
      ]
     },
     "execution_count": 6,
     "metadata": {},
     "output_type": "execute_result"
    }
   ],
   "source": [
    "#Removing unwanted variables\n",
    "df = df.drop(columns = ['most_recent_visit', 'revenue'])\n",
    "df.head(1)"
   ]
  },
  {
   "cell_type": "code",
   "execution_count": 7,
   "metadata": {
    "colab": {
     "base_uri": "https://localhost:8080/",
     "height": 206
    },
    "executionInfo": {
     "elapsed": 288,
     "status": "ok",
     "timestamp": 1669229136612,
     "user": {
      "displayName": "Diogo Resende",
      "userId": "05706604408624562002"
     },
     "user_tz": -60
    },
    "id": "dQ0FEiitDldA",
    "outputId": "cca2c28f-0545-4071-bb3b-11d56b6cfe4b"
   },
   "outputs": [
    {
     "data": {
      "application/vnd.microsoft.datawrangler.viewer.v0+json": {
       "columns": [
        {
         "name": "index",
         "rawType": "int64",
         "type": "integer"
        },
        {
         "name": "customer_id",
         "rawType": "int64",
         "type": "integer"
        },
        {
         "name": "frequency",
         "rawType": "int64",
         "type": "integer"
        },
        {
         "name": "recency",
         "rawType": "int64",
         "type": "integer"
        },
        {
         "name": "monetary",
         "rawType": "float64",
         "type": "float"
        },
        {
         "name": "F",
         "rawType": "category",
         "type": "unknown"
        },
        {
         "name": "M",
         "rawType": "category",
         "type": "unknown"
        },
        {
         "name": "R",
         "rawType": "category",
         "type": "unknown"
        }
       ],
       "ref": "2020a431-345c-44fc-b4cf-ba84b0f576f9",
       "rows": [
        [
         "0",
         "22086",
         "9",
         "232",
         "86.33333333333333",
         "2",
         "1",
         "1"
        ],
        [
         "1",
         "2290",
         "16",
         "115",
         "97.1875",
         "3",
         "2",
         "2"
        ],
        [
         "2",
         "26377",
         "5",
         "43",
         "67.2",
         "1",
         "1",
         "3"
        ],
        [
         "3",
         "24650",
         "12",
         "64",
         "99.08333333333333",
         "3",
         "2",
         "3"
        ],
        [
         "4",
         "12883",
         "12",
         "23",
         "102.41666666666667",
         "3",
         "2",
         "3"
        ]
       ],
       "shape": {
        "columns": 7,
        "rows": 5
       }
      },
      "text/html": [
       "<div>\n",
       "<style scoped>\n",
       "    .dataframe tbody tr th:only-of-type {\n",
       "        vertical-align: middle;\n",
       "    }\n",
       "\n",
       "    .dataframe tbody tr th {\n",
       "        vertical-align: top;\n",
       "    }\n",
       "\n",
       "    .dataframe thead th {\n",
       "        text-align: right;\n",
       "    }\n",
       "</style>\n",
       "<table border=\"1\" class=\"dataframe\">\n",
       "  <thead>\n",
       "    <tr style=\"text-align: right;\">\n",
       "      <th></th>\n",
       "      <th>customer_id</th>\n",
       "      <th>frequency</th>\n",
       "      <th>recency</th>\n",
       "      <th>monetary</th>\n",
       "      <th>F</th>\n",
       "      <th>M</th>\n",
       "      <th>R</th>\n",
       "    </tr>\n",
       "  </thead>\n",
       "  <tbody>\n",
       "    <tr>\n",
       "      <th>0</th>\n",
       "      <td>22086</td>\n",
       "      <td>9</td>\n",
       "      <td>232</td>\n",
       "      <td>86.333333</td>\n",
       "      <td>2</td>\n",
       "      <td>1</td>\n",
       "      <td>1</td>\n",
       "    </tr>\n",
       "    <tr>\n",
       "      <th>1</th>\n",
       "      <td>2290</td>\n",
       "      <td>16</td>\n",
       "      <td>115</td>\n",
       "      <td>97.187500</td>\n",
       "      <td>3</td>\n",
       "      <td>2</td>\n",
       "      <td>2</td>\n",
       "    </tr>\n",
       "    <tr>\n",
       "      <th>2</th>\n",
       "      <td>26377</td>\n",
       "      <td>5</td>\n",
       "      <td>43</td>\n",
       "      <td>67.200000</td>\n",
       "      <td>1</td>\n",
       "      <td>1</td>\n",
       "      <td>3</td>\n",
       "    </tr>\n",
       "    <tr>\n",
       "      <th>3</th>\n",
       "      <td>24650</td>\n",
       "      <td>12</td>\n",
       "      <td>64</td>\n",
       "      <td>99.083333</td>\n",
       "      <td>3</td>\n",
       "      <td>2</td>\n",
       "      <td>3</td>\n",
       "    </tr>\n",
       "    <tr>\n",
       "      <th>4</th>\n",
       "      <td>12883</td>\n",
       "      <td>12</td>\n",
       "      <td>23</td>\n",
       "      <td>102.416667</td>\n",
       "      <td>3</td>\n",
       "      <td>2</td>\n",
       "      <td>3</td>\n",
       "    </tr>\n",
       "  </tbody>\n",
       "</table>\n",
       "</div>"
      ],
      "text/plain": [
       "   customer_id  frequency  recency    monetary  F  M  R\n",
       "0        22086          9      232   86.333333  2  1  1\n",
       "1         2290         16      115   97.187500  3  2  2\n",
       "2        26377          5       43   67.200000  1  1  3\n",
       "3        24650         12       64   99.083333  3  2  3\n",
       "4        12883         12       23  102.416667  3  2  3"
      ]
     },
     "execution_count": 7,
     "metadata": {},
     "output_type": "execute_result"
    }
   ],
   "source": [
    "#Create groups point system\n",
    "df['F'] = pd.qcut(df['frequency'], q = 3, labels = range(1,4,1))\n",
    "df['M'] = pd.qcut(df['monetary'], q = 3, labels = range(1,4,1))\n",
    "df['R'] = pd.qcut(df['recency'], q = 3, labels = range(3,0,-1))\n",
    "df.head()"
   ]
  },
  {
   "cell_type": "code",
   "execution_count": 8,
   "metadata": {
    "colab": {
     "base_uri": "https://localhost:8080/",
     "height": 81
    },
    "executionInfo": {
     "elapsed": 429,
     "status": "ok",
     "timestamp": 1669229138651,
     "user": {
      "displayName": "Diogo Resende",
      "userId": "05706604408624562002"
     },
     "user_tz": -60
    },
    "id": "9xgVAO9iECnQ",
    "outputId": "c15222f7-a075-4fe7-d65f-8fc7d66f9675"
   },
   "outputs": [
    {
     "data": {
      "application/vnd.microsoft.datawrangler.viewer.v0+json": {
       "columns": [
        {
         "name": "index",
         "rawType": "int64",
         "type": "integer"
        },
        {
         "name": "customer_id",
         "rawType": "int64",
         "type": "integer"
        },
        {
         "name": "frequency",
         "rawType": "int64",
         "type": "integer"
        },
        {
         "name": "recency",
         "rawType": "int64",
         "type": "integer"
        },
        {
         "name": "monetary",
         "rawType": "float64",
         "type": "float"
        },
        {
         "name": "F",
         "rawType": "category",
         "type": "unknown"
        },
        {
         "name": "M",
         "rawType": "category",
         "type": "unknown"
        },
        {
         "name": "R",
         "rawType": "category",
         "type": "unknown"
        },
        {
         "name": "RFM",
         "rawType": "int64",
         "type": "integer"
        }
       ],
       "ref": "105fca88-be8a-42f4-8c6a-8d31dd903508",
       "rows": [
        [
         "0",
         "22086",
         "9",
         "232",
         "86.33333333333333",
         "2",
         "1",
         "1",
         "4"
        ]
       ],
       "shape": {
        "columns": 8,
        "rows": 1
       }
      },
      "text/html": [
       "<div>\n",
       "<style scoped>\n",
       "    .dataframe tbody tr th:only-of-type {\n",
       "        vertical-align: middle;\n",
       "    }\n",
       "\n",
       "    .dataframe tbody tr th {\n",
       "        vertical-align: top;\n",
       "    }\n",
       "\n",
       "    .dataframe thead th {\n",
       "        text-align: right;\n",
       "    }\n",
       "</style>\n",
       "<table border=\"1\" class=\"dataframe\">\n",
       "  <thead>\n",
       "    <tr style=\"text-align: right;\">\n",
       "      <th></th>\n",
       "      <th>customer_id</th>\n",
       "      <th>frequency</th>\n",
       "      <th>recency</th>\n",
       "      <th>monetary</th>\n",
       "      <th>F</th>\n",
       "      <th>M</th>\n",
       "      <th>R</th>\n",
       "      <th>RFM</th>\n",
       "    </tr>\n",
       "  </thead>\n",
       "  <tbody>\n",
       "    <tr>\n",
       "      <th>0</th>\n",
       "      <td>22086</td>\n",
       "      <td>9</td>\n",
       "      <td>232</td>\n",
       "      <td>86.333333</td>\n",
       "      <td>2</td>\n",
       "      <td>1</td>\n",
       "      <td>1</td>\n",
       "      <td>4</td>\n",
       "    </tr>\n",
       "  </tbody>\n",
       "</table>\n",
       "</div>"
      ],
      "text/plain": [
       "   customer_id  frequency  recency   monetary  F  M  R  RFM\n",
       "0        22086          9      232  86.333333  2  1  1    4"
      ]
     },
     "execution_count": 8,
     "metadata": {},
     "output_type": "execute_result"
    }
   ],
   "source": [
    "#Create RFM score\n",
    "df['RFM'] = df[['R', 'F', 'M']].sum(axis = 1)\n",
    "df.head(1)"
   ]
  },
  {
   "cell_type": "code",
   "execution_count": 9,
   "metadata": {
    "executionInfo": {
     "elapsed": 13,
     "status": "ok",
     "timestamp": 1669229138653,
     "user": {
      "displayName": "Diogo Resende",
      "userId": "05706604408624562002"
     },
     "user_tz": -60
    },
    "id": "27j3bMbMETX3"
   },
   "outputs": [],
   "source": [
    "#Create RFM function\n",
    "def rfm_segment(df):\n",
    "  if df['RFM'] >= 8:\n",
    "    return 'Superstar'\n",
    "  elif ((df['RFM'] >= 5) and (df['RFM'] < 8)):\n",
    "    return 'High Potential'\n",
    "  else:\n",
    "    return 'Low Relevance'"
   ]
  },
  {
   "cell_type": "markdown",
   "metadata": {
    "id": "h5uVy4RPFAQ0"
   },
   "source": [
    "# RFM"
   ]
  },
  {
   "cell_type": "code",
   "execution_count": 10,
   "metadata": {
    "colab": {
     "base_uri": "https://localhost:8080/",
     "height": 206
    },
    "executionInfo": {
     "elapsed": 1334,
     "status": "ok",
     "timestamp": 1669229142310,
     "user": {
      "displayName": "Diogo Resende",
      "userId": "05706604408624562002"
     },
     "user_tz": -60
    },
    "id": "Hks_Zz5nE6PT",
    "outputId": "6ca34e9f-259f-4e95-f89b-ceae36541f73"
   },
   "outputs": [
    {
     "data": {
      "application/vnd.microsoft.datawrangler.viewer.v0+json": {
       "columns": [
        {
         "name": "index",
         "rawType": "int64",
         "type": "integer"
        },
        {
         "name": "customer_id",
         "rawType": "int64",
         "type": "integer"
        },
        {
         "name": "frequency",
         "rawType": "int64",
         "type": "integer"
        },
        {
         "name": "recency",
         "rawType": "int64",
         "type": "integer"
        },
        {
         "name": "monetary",
         "rawType": "float64",
         "type": "float"
        },
        {
         "name": "F",
         "rawType": "category",
         "type": "unknown"
        },
        {
         "name": "M",
         "rawType": "category",
         "type": "unknown"
        },
        {
         "name": "R",
         "rawType": "category",
         "type": "unknown"
        },
        {
         "name": "RFM",
         "rawType": "int64",
         "type": "integer"
        },
        {
         "name": "RFM_level",
         "rawType": "object",
         "type": "string"
        }
       ],
       "ref": "3c7db275-6974-4d11-b6e0-0ba63c4ad0e7",
       "rows": [
        [
         "0",
         "22086",
         "9",
         "232",
         "86.33333333333333",
         "2",
         "1",
         "1",
         "4",
         "Low Relevance"
        ],
        [
         "1",
         "2290",
         "16",
         "115",
         "97.1875",
         "3",
         "2",
         "2",
         "7",
         "High Potential"
        ],
        [
         "2",
         "26377",
         "5",
         "43",
         "67.2",
         "1",
         "1",
         "3",
         "5",
         "High Potential"
        ],
        [
         "3",
         "24650",
         "12",
         "64",
         "99.08333333333333",
         "3",
         "2",
         "3",
         "8",
         "Superstar"
        ],
        [
         "4",
         "12883",
         "12",
         "23",
         "102.41666666666667",
         "3",
         "2",
         "3",
         "8",
         "Superstar"
        ]
       ],
       "shape": {
        "columns": 9,
        "rows": 5
       }
      },
      "text/html": [
       "<div>\n",
       "<style scoped>\n",
       "    .dataframe tbody tr th:only-of-type {\n",
       "        vertical-align: middle;\n",
       "    }\n",
       "\n",
       "    .dataframe tbody tr th {\n",
       "        vertical-align: top;\n",
       "    }\n",
       "\n",
       "    .dataframe thead th {\n",
       "        text-align: right;\n",
       "    }\n",
       "</style>\n",
       "<table border=\"1\" class=\"dataframe\">\n",
       "  <thead>\n",
       "    <tr style=\"text-align: right;\">\n",
       "      <th></th>\n",
       "      <th>customer_id</th>\n",
       "      <th>frequency</th>\n",
       "      <th>recency</th>\n",
       "      <th>monetary</th>\n",
       "      <th>F</th>\n",
       "      <th>M</th>\n",
       "      <th>R</th>\n",
       "      <th>RFM</th>\n",
       "      <th>RFM_level</th>\n",
       "    </tr>\n",
       "  </thead>\n",
       "  <tbody>\n",
       "    <tr>\n",
       "      <th>0</th>\n",
       "      <td>22086</td>\n",
       "      <td>9</td>\n",
       "      <td>232</td>\n",
       "      <td>86.333333</td>\n",
       "      <td>2</td>\n",
       "      <td>1</td>\n",
       "      <td>1</td>\n",
       "      <td>4</td>\n",
       "      <td>Low Relevance</td>\n",
       "    </tr>\n",
       "    <tr>\n",
       "      <th>1</th>\n",
       "      <td>2290</td>\n",
       "      <td>16</td>\n",
       "      <td>115</td>\n",
       "      <td>97.187500</td>\n",
       "      <td>3</td>\n",
       "      <td>2</td>\n",
       "      <td>2</td>\n",
       "      <td>7</td>\n",
       "      <td>High Potential</td>\n",
       "    </tr>\n",
       "    <tr>\n",
       "      <th>2</th>\n",
       "      <td>26377</td>\n",
       "      <td>5</td>\n",
       "      <td>43</td>\n",
       "      <td>67.200000</td>\n",
       "      <td>1</td>\n",
       "      <td>1</td>\n",
       "      <td>3</td>\n",
       "      <td>5</td>\n",
       "      <td>High Potential</td>\n",
       "    </tr>\n",
       "    <tr>\n",
       "      <th>3</th>\n",
       "      <td>24650</td>\n",
       "      <td>12</td>\n",
       "      <td>64</td>\n",
       "      <td>99.083333</td>\n",
       "      <td>3</td>\n",
       "      <td>2</td>\n",
       "      <td>3</td>\n",
       "      <td>8</td>\n",
       "      <td>Superstar</td>\n",
       "    </tr>\n",
       "    <tr>\n",
       "      <th>4</th>\n",
       "      <td>12883</td>\n",
       "      <td>12</td>\n",
       "      <td>23</td>\n",
       "      <td>102.416667</td>\n",
       "      <td>3</td>\n",
       "      <td>2</td>\n",
       "      <td>3</td>\n",
       "      <td>8</td>\n",
       "      <td>Superstar</td>\n",
       "    </tr>\n",
       "  </tbody>\n",
       "</table>\n",
       "</div>"
      ],
      "text/plain": [
       "   customer_id  frequency  recency    monetary  F  M  R  RFM       RFM_level\n",
       "0        22086          9      232   86.333333  2  1  1    4   Low Relevance\n",
       "1         2290         16      115   97.187500  3  2  2    7  High Potential\n",
       "2        26377          5       43   67.200000  1  1  3    5  High Potential\n",
       "3        24650         12       64   99.083333  3  2  3    8       Superstar\n",
       "4        12883         12       23  102.416667  3  2  3    8       Superstar"
      ]
     },
     "execution_count": 10,
     "metadata": {},
     "output_type": "execute_result"
    }
   ],
   "source": [
    "#Applying function\n",
    "df['RFM_level'] = df.apply(rfm_segment, axis = 1)\n",
    "df.head()"
   ]
  },
  {
   "cell_type": "code",
   "execution_count": 11,
   "metadata": {
    "colab": {
     "base_uri": "https://localhost:8080/",
     "height": 206
    },
    "executionInfo": {
     "elapsed": 15,
     "status": "ok",
     "timestamp": 1669229142959,
     "user": {
      "displayName": "Diogo Resende",
      "userId": "05706604408624562002"
     },
     "user_tz": -60
    },
    "id": "R3jcABpPFKZd",
    "outputId": "a06d213f-aa1a-46f8-cb29-63679cfa0f4a"
   },
   "outputs": [
    {
     "data": {
      "application/vnd.microsoft.datawrangler.viewer.v0+json": {
       "columns": [
        {
         "name": "RFM_level",
         "rawType": "object",
         "type": "string"
        },
        {
         "name": "('recency', 'mean')",
         "rawType": "float64",
         "type": "float"
        },
        {
         "name": "('frequency', 'mean')",
         "rawType": "float64",
         "type": "float"
        },
        {
         "name": "('monetary', 'mean')",
         "rawType": "float64",
         "type": "float"
        },
        {
         "name": "('monetary', 'count')",
         "rawType": "int64",
         "type": "integer"
        }
       ],
       "ref": "a10f3ac6-ea43-4191-82cc-26376bb60241",
       "rows": [
        [
         "High Potential",
         "171.8",
         "9.8",
         "97.0",
         "26445"
        ],
        [
         "Low Relevance",
         "306.6",
         "7.1",
         "78.5",
         "7179"
        ],
        [
         "Superstar",
         "80.1",
         "12.8",
         "108.3",
         "6375"
        ]
       ],
       "shape": {
        "columns": 4,
        "rows": 3
       }
      },
      "text/html": [
       "<div>\n",
       "<style scoped>\n",
       "    .dataframe tbody tr th:only-of-type {\n",
       "        vertical-align: middle;\n",
       "    }\n",
       "\n",
       "    .dataframe tbody tr th {\n",
       "        vertical-align: top;\n",
       "    }\n",
       "\n",
       "    .dataframe thead tr th {\n",
       "        text-align: left;\n",
       "    }\n",
       "\n",
       "    .dataframe thead tr:last-of-type th {\n",
       "        text-align: right;\n",
       "    }\n",
       "</style>\n",
       "<table border=\"1\" class=\"dataframe\">\n",
       "  <thead>\n",
       "    <tr>\n",
       "      <th></th>\n",
       "      <th>recency</th>\n",
       "      <th>frequency</th>\n",
       "      <th colspan=\"2\" halign=\"left\">monetary</th>\n",
       "    </tr>\n",
       "    <tr>\n",
       "      <th></th>\n",
       "      <th>mean</th>\n",
       "      <th>mean</th>\n",
       "      <th>mean</th>\n",
       "      <th>count</th>\n",
       "    </tr>\n",
       "    <tr>\n",
       "      <th>RFM_level</th>\n",
       "      <th></th>\n",
       "      <th></th>\n",
       "      <th></th>\n",
       "      <th></th>\n",
       "    </tr>\n",
       "  </thead>\n",
       "  <tbody>\n",
       "    <tr>\n",
       "      <th>High Potential</th>\n",
       "      <td>171.8</td>\n",
       "      <td>9.8</td>\n",
       "      <td>97.0</td>\n",
       "      <td>26445</td>\n",
       "    </tr>\n",
       "    <tr>\n",
       "      <th>Low Relevance</th>\n",
       "      <td>306.6</td>\n",
       "      <td>7.1</td>\n",
       "      <td>78.5</td>\n",
       "      <td>7179</td>\n",
       "    </tr>\n",
       "    <tr>\n",
       "      <th>Superstar</th>\n",
       "      <td>80.1</td>\n",
       "      <td>12.8</td>\n",
       "      <td>108.3</td>\n",
       "      <td>6375</td>\n",
       "    </tr>\n",
       "  </tbody>\n",
       "</table>\n",
       "</div>"
      ],
      "text/plain": [
       "               recency frequency monetary       \n",
       "                  mean      mean     mean  count\n",
       "RFM_level                                       \n",
       "High Potential   171.8       9.8     97.0  26445\n",
       "Low Relevance    306.6       7.1     78.5   7179\n",
       "Superstar         80.1      12.8    108.3   6375"
      ]
     },
     "execution_count": 11,
     "metadata": {},
     "output_type": "execute_result"
    }
   ],
   "source": [
    "#Aggregating the segments\n",
    "df.groupby('RFM_level').agg({\n",
    "    'recency': 'mean',\n",
    "    'frequency': 'mean',\n",
    "    'monetary': ['mean', 'count']\n",
    "}).round(1)"
   ]
  },
  {
   "cell_type": "code",
   "execution_count": null,
   "metadata": {},
   "outputs": [],
   "source": []
  }
 ],
 "metadata": {
  "colab": {
   "authorship_tag": "ABX9TyPik/r6ND+HZBiaBx4+DRVt",
   "mount_file_id": "1yWx1AmrmtIPuZmVFu5m86g6xXClaP5_1",
   "provenance": []
  },
  "kernelspec": {
   "display_name": "Python 3",
   "name": "python3"
  },
  "language_info": {
   "codemirror_mode": {
    "name": "ipython",
    "version": 3
   },
   "file_extension": ".py",
   "mimetype": "text/x-python",
   "name": "python",
   "nbconvert_exporter": "python",
   "pygments_lexer": "ipython3",
   "version": "3.13.2"
  }
 },
 "nbformat": 4,
 "nbformat_minor": 0
}
